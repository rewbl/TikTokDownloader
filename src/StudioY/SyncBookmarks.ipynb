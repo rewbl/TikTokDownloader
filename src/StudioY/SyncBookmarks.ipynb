{
 "cells": [
  {
   "cell_type": "code",
   "execution_count": 1,
   "metadata": {
    "collapsed": true
   },
   "outputs": [],
   "source": [
    "from src.DouyinEndpoints.AwemeCollectionPrivateApi import get_sample_aweme_list\n",
    "\n",
    "aweme_list = get_sample_aweme_list()"
   ]
  },
  {
   "cell_type": "code",
   "execution_count": 2,
   "outputs": [],
   "source": [
    "from src.StudioY.SyncBookmarks import FavoriteVideoDto, DouyinAuthorDto\n",
    "def create_author_dto(author) -> DouyinAuthorDto:\n",
    "    dto = DouyinAuthorDto()\n",
    "    dto.Uid = author['uid']\n",
    "    dto.SecUid = author['sec_uid']\n",
    "    dto.Nickname = author['nickname']\n",
    "    avatar_url_list = author.get('avatar_larger',{}).get('url_list',[])\n",
    "    dto.AvatarUrl = avatar_url_list[1] if avatar_url_list else ''\n",
    "    avator_thumb_url_list = author.get('avatar_thumb',{}).get('url_list',[])\n",
    "    dto.AvatarThumbUrl = avator_thumb_url_list[1] if avator_thumb_url_list else ''\n",
    "    return dto\n",
    "\n",
    "def create_video_dto(aweme) -> FavoriteVideoDto:\n",
    "    video = FavoriteVideoDto()\n",
    "    video.Author = create_author_dto(aweme.get('author',{}))\n",
    "\n",
    "    video.aweme_id = aweme['aweme_id']\n",
    "    video.Caption = aweme['caption']\n",
    "    video.Description = aweme['desc']\n",
    "    vnode=aweme.get('video',{})\n",
    "    video.Height = vnode.get('height',0)\n",
    "    video.Width = vnode.get('width',0)\n",
    "    video.Duration = vnode.get('duration',0)\n",
    "    cover_urls=vnode.get('cover',{}).get('url_list',[])\n",
    "    video.CoverUrl = cover_urls[1] if len(cover_urls)>1 else cover_urls[0] if len(cover_urls)>0 else ''\n",
    "    video.Ratio = vnode.get('ratio',0)\n",
    "    bit_rate = vnode.get('bit_rate',[])\n",
    "    video.BestBitRateUrl = bit_rate[0].get('url','') if bit_rate else ''\n",
    "    return video\n",
    "\n"
   ],
   "metadata": {
    "collapsed": false
   }
  },
  {
   "cell_type": "code",
   "execution_count": 8,
   "outputs": [
    {
     "ename": "IndexError",
     "evalue": "list index out of range",
     "output_type": "error",
     "traceback": [
      "\u001B[1;31m---------------------------------------------------------------------------\u001B[0m",
      "\u001B[1;31mIndexError\u001B[0m                                Traceback (most recent call last)",
      "Cell \u001B[1;32mIn[8], line 2\u001B[0m\n\u001B[0;32m      1\u001B[0m aweme \u001B[38;5;241m=\u001B[39m aweme_list[\u001B[38;5;241m0\u001B[39m]\n\u001B[1;32m----> 2\u001B[0m dto \u001B[38;5;241m=\u001B[39m \u001B[43mcreate_video_dto\u001B[49m\u001B[43m(\u001B[49m\u001B[43maweme\u001B[49m\u001B[43m)\u001B[49m\n",
      "Cell \u001B[1;32mIn[2], line 15\u001B[0m, in \u001B[0;36mcreate_video_dto\u001B[1;34m(aweme)\u001B[0m\n\u001B[0;32m     13\u001B[0m \u001B[38;5;28;01mdef\u001B[39;00m \u001B[38;5;21mcreate_video_dto\u001B[39m(aweme) \u001B[38;5;241m-\u001B[39m\u001B[38;5;241m>\u001B[39m FavoriteVideoDto:\n\u001B[0;32m     14\u001B[0m     video \u001B[38;5;241m=\u001B[39m FavoriteVideoDto()\n\u001B[1;32m---> 15\u001B[0m     video\u001B[38;5;241m.\u001B[39mAuthor \u001B[38;5;241m=\u001B[39m \u001B[43mcreate_author_dto\u001B[49m\u001B[43m(\u001B[49m\u001B[43maweme\u001B[49m\u001B[38;5;241;43m.\u001B[39;49m\u001B[43mget\u001B[49m\u001B[43m(\u001B[49m\u001B[38;5;124;43m'\u001B[39;49m\u001B[38;5;124;43mauthor\u001B[39;49m\u001B[38;5;124;43m'\u001B[39;49m\u001B[43m,\u001B[49m\u001B[43m{\u001B[49m\u001B[43m}\u001B[49m\u001B[43m)\u001B[49m\u001B[43m)\u001B[49m\n\u001B[0;32m     17\u001B[0m     video\u001B[38;5;241m.\u001B[39maweme_id \u001B[38;5;241m=\u001B[39m aweme[\u001B[38;5;124m'\u001B[39m\u001B[38;5;124maweme_id\u001B[39m\u001B[38;5;124m'\u001B[39m]\n\u001B[0;32m     18\u001B[0m     video\u001B[38;5;241m.\u001B[39mCaption \u001B[38;5;241m=\u001B[39m aweme[\u001B[38;5;124m'\u001B[39m\u001B[38;5;124mcaption\u001B[39m\u001B[38;5;124m'\u001B[39m]\n",
      "Cell \u001B[1;32mIn[2], line 8\u001B[0m, in \u001B[0;36mcreate_author_dto\u001B[1;34m(author)\u001B[0m\n\u001B[0;32m      6\u001B[0m dto\u001B[38;5;241m.\u001B[39mNickname \u001B[38;5;241m=\u001B[39m author[\u001B[38;5;124m'\u001B[39m\u001B[38;5;124mnickname\u001B[39m\u001B[38;5;124m'\u001B[39m]\n\u001B[0;32m      7\u001B[0m avatar_url_list \u001B[38;5;241m=\u001B[39m author\u001B[38;5;241m.\u001B[39mget(\u001B[38;5;124m'\u001B[39m\u001B[38;5;124mavatar_larger\u001B[39m\u001B[38;5;124m'\u001B[39m,{})\u001B[38;5;241m.\u001B[39mget(\u001B[38;5;124m'\u001B[39m\u001B[38;5;124murl_list\u001B[39m\u001B[38;5;124m'\u001B[39m,[])\n\u001B[1;32m----> 8\u001B[0m dto\u001B[38;5;241m.\u001B[39mAvatarUrl \u001B[38;5;241m=\u001B[39m \u001B[43mavatar_url_list\u001B[49m\u001B[43m[\u001B[49m\u001B[38;5;241;43m1\u001B[39;49m\u001B[43m]\u001B[49m \u001B[38;5;28;01mif\u001B[39;00m avatar_url_list \u001B[38;5;28;01melse\u001B[39;00m \u001B[38;5;124m'\u001B[39m\u001B[38;5;124m'\u001B[39m\n\u001B[0;32m      9\u001B[0m avator_thumb_url_list \u001B[38;5;241m=\u001B[39m author\u001B[38;5;241m.\u001B[39mget(\u001B[38;5;124m'\u001B[39m\u001B[38;5;124mavatar_thumb\u001B[39m\u001B[38;5;124m'\u001B[39m,{})\u001B[38;5;241m.\u001B[39mget(\u001B[38;5;124m'\u001B[39m\u001B[38;5;124murl_list\u001B[39m\u001B[38;5;124m'\u001B[39m,[])\n\u001B[0;32m     10\u001B[0m dto\u001B[38;5;241m.\u001B[39mAvatarThumbUrl \u001B[38;5;241m=\u001B[39m avator_thumb_url_list[\u001B[38;5;241m1\u001B[39m] \u001B[38;5;28;01mif\u001B[39;00m avator_thumb_url_list \u001B[38;5;28;01melse\u001B[39;00m \u001B[38;5;124m'\u001B[39m\u001B[38;5;124m'\u001B[39m\n",
      "\u001B[1;31mIndexError\u001B[0m: list index out of range"
     ]
    }
   ],
   "source": [
    "aweme = aweme_list[0]\n",
    "dto = create_video_dto(aweme)"
   ],
   "metadata": {
    "collapsed": false
   }
  }
 ],
 "metadata": {
  "kernelspec": {
   "display_name": "Python 3",
   "language": "python",
   "name": "python3"
  },
  "language_info": {
   "codemirror_mode": {
    "name": "ipython",
    "version": 2
   },
   "file_extension": ".py",
   "mimetype": "text/x-python",
   "name": "python",
   "nbconvert_exporter": "python",
   "pygments_lexer": "ipython2",
   "version": "2.7.6"
  }
 },
 "nbformat": 4,
 "nbformat_minor": 0
}
